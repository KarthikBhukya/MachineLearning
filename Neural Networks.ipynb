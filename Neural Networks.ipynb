{
 "cells": [
  {
   "cell_type": "markdown",
   "metadata": {},
   "source": [
    "## Required Imports"
   ]
  },
  {
   "cell_type": "markdown",
   "metadata": {},
   "source": [
    "First, we start by importing the required libraries. Matplotlib is used for plotting. sklearn is used for importing the MNIST dataset. A random seed of 5655 is used to ensure reproducibility."
   ]
  },
  {
   "cell_type": "code",
   "execution_count": 1,
   "metadata": {},
   "outputs": [],
   "source": [
    "import numpy as np\n",
    "import os\n",
    "import pickle\n",
    "import time\n",
    "import matplotlib.pyplot as plt\n",
    "from sklearn.datasets import fetch_openml\n",
    "%matplotlib inline\n",
    "\n",
    "rng = np.random.default_rng(5655)"
   ]
  },
  {
   "cell_type": "markdown",
   "metadata": {},
   "source": [
    "## Signatures of Base Classes"
   ]
  },
  {
   "cell_type": "markdown",
   "metadata": {},
   "source": [
    "Here we define the backbone of the classes that will be inherited and expanded upon later. We define three class types - layer, activation and loss. We inherit them later and make them complete. "
   ]
  },
  {
   "cell_type": "code",
   "execution_count": 2,
   "metadata": {},
   "outputs": [],
   "source": [
    "class Layer(object):\n",
    "\t'''\n",
    "\tThis class provides a signature for a layer. It can be used for any \n",
    "\ttype of layer\n",
    "\t'''\n",
    "\tdef __init__(self, inp, out):\n",
    "\t\tpass\n",
    "\n",
    "\tdef forward(self, x):\n",
    "\t\tpass\n",
    "\n",
    "\tdef backward(self, error):\n",
    "\t\tpass"
   ]
  },
  {
   "cell_type": "code",
   "execution_count": 3,
   "metadata": {},
   "outputs": [],
   "source": [
    "class Activation(object):\n",
    "\t'''\n",
    "\tThis class provides a signature for a activation function. It can be used for any \n",
    "\ttype of activation function\n",
    "\t'''\n",
    "\tdef __init__(self):\n",
    "\t\tpass\n",
    "\n",
    "\tdef forward(self, x):\n",
    "\t\tpass\n",
    "\n",
    "\tdef backward(self, x):\n",
    "\t\tpass"
   ]
  },
  {
   "cell_type": "code",
   "execution_count": 4,
   "metadata": {},
   "outputs": [],
   "source": [
    "class Loss(object):\n",
    "\t'''\n",
    "\tThis class provides a signature for a loss function. It can be used for any \n",
    "\ttype of loss function\n",
    "\t'''\n",
    "\tdef __init__(self):\n",
    "\t\tpass\n",
    "\n",
    "\tdef forward(self, x):\n",
    "\t\tpass\n",
    "\n",
    "\tdef backward(self, x):\n",
    "\t\tpass\n",
    "\n",
    "if __name__ == '__main__':\n",
    "\tpass"
   ]
  },
  {
   "cell_type": "markdown",
   "metadata": {},
   "source": [
    "## Linear Layer Class"
   ]
  },
  {
   "cell_type": "code",
   "execution_count": 5,
   "metadata": {},
   "outputs": [],
   "source": [
    "class Linear(Layer):\n",
    "    '''\n",
    "    This class implements a linear layer.\n",
    "    A linear layer is a fully connected or a dense layer. This class does not\n",
    "    take in an activation. \n",
    "    '''\n",
    "    def __init__(self, inp, out):\n",
    "        '''\n",
    "        Initializes a layer object\n",
    "        Input - \n",
    "            inp: the size of the input\n",
    "        Output -\n",
    "            out: the size of the output\n",
    "        '''\n",
    "        self.weights = rng.uniform(-1./np.sqrt(out), 1./np.sqrt(out), (out, inp))\n",
    "        self.bias = rng.uniform(-1./np.sqrt(out), 1./np.sqrt(out), (out, 1))\n",
    "\n",
    "    def forward(self, x):\n",
    "        '''\n",
    "        Implements the forward pass of the linear layer\n",
    "        It is simply matrix multiplication: z = Wx + b\n",
    "        Input - \n",
    "            x: input batch: shape: (n_features, batch_size), numpy array of floats\n",
    "        Output -\n",
    "            self.logits: output batch: shape: (out_features, batch_size), numpy array of floats\n",
    "        '''\n",
    "        # x = np.vstack([x, np.array([1.]*x.shape[1])])\n",
    "        self.inputs = x.copy()\n",
    "        self.logits = self.weights @ x + self.bias\n",
    "        return self.logits\n",
    "\n",
    "    def backward(self, error):\n",
    "        '''\n",
    "        Implements the backward pass through the layer\n",
    "        Input -\n",
    "            error: the numpy array of gradients returned from the previous layer\n",
    "        Output -\n",
    "            self.d_weights: the gradient of the loss function with respect to the layer weights, numpy array of floats\n",
    "            self.d_bias: the gradient of the loss function with respect to the layer bias, numpy array of floats\n",
    "        '''\n",
    "        self.d_act = error\n",
    "        # print('e=',error.shape)\n",
    "        # print('y_prev=',self.inputs.shape)\n",
    "        self.d_weights = error @ self.inputs.T/self.inputs.shape[1]\n",
    "        self.d_bias = error.mean(axis=1, keepdims=True)\n",
    "        self.d_act = self.weights.T @ self.d_act\n",
    "        # print('d_act=', self.d_act.shape)\n",
    "        return self.d_weights, self.d_bias\n",
    "\n",
    "    def reset(self):\n",
    "        '''\n",
    "        Empties the cache of the layer - the stored inputs, logits, derivative with respect to activations\n",
    "        and derivative with respect to weights\n",
    "        '''\n",
    "        self.inputs = None\n",
    "        self.logits = None\n",
    "        self.d_act = None\n",
    "        self.d_weights = None\n",
    "\n",
    "    def set_weights(self, w, b):\n",
    "        '''\n",
    "        Given the weights and biases of a layer, it sets the weights and bias of the layer\n",
    "        Inputs - \n",
    "            w: a numpy array of floats \n",
    "            b: a numpy array of floats\n",
    "        Outputs -\n",
    "            None\n",
    "        '''\n",
    "        # print('w=', w.shape)\n",
    "        # print('weights=', self.weights.shape)\n",
    "        assert self.weights.shape == w.shape\n",
    "        assert self.bias.shape == b.shape\n",
    "        self.weights = w\n",
    "        self.bias = b\n",
    "        return"
   ]
  },
  {
   "cell_type": "markdown",
   "metadata": {},
   "source": [
    "## Sigmoid Activation\n",
    "\n",
    "Here we implement the sigmoid activation, which is typically used for binary classification."
   ]
  },
  {
   "cell_type": "code",
   "execution_count": 6,
   "metadata": {},
   "outputs": [],
   "source": [
    "class Sigmoid(Activation):\n",
    "    ''' Implements the Sigmoid activation function'''\n",
    "    def __init__(self):\n",
    "        pass\n",
    "\n",
    "    def forward(self, x):\n",
    "        y = 1. + np.exp(-1.*x)\n",
    "        return 1./y\n",
    "\n",
    "    def backward(self, x, act):\n",
    "        return act*(1 - act)*x"
   ]
  },
  {
   "cell_type": "markdown",
   "metadata": {},
   "source": [
    "## Tanh Activation\n",
    "\n",
    "Here we implement the tanh activation. It is used in the hidden layers of the network."
   ]
  },
  {
   "cell_type": "code",
   "execution_count": 7,
   "metadata": {},
   "outputs": [],
   "source": [
    "class Tanh(Activation):\n",
    "    ''' Implements the Tanh activation function'''\n",
    "    def __init__(self):\n",
    "        pass\n",
    "\n",
    "    def forward(self, x):\n",
    "        return np.tanh(x)\n",
    "\n",
    "    def backward(self, x, act):\n",
    "        return (1 - act**2)*x "
   ]
  },
  {
   "cell_type": "markdown",
   "metadata": {},
   "source": [
    "## Softmax Activation\n",
    "\n",
    "Here we implement the softmax classification which is used in multi class classification problems."
   ]
  },
  {
   "cell_type": "code",
   "execution_count": 8,
   "metadata": {},
   "outputs": [],
   "source": [
    "class Softmax(Activation):\n",
    "    ''' Implements the Softmax activation function'''\n",
    "    def __init__(self):\n",
    "        pass\n",
    "\n",
    "    def forward(self, x):\n",
    "        # x = x - np.max(x, axis=0, keepdims=True)\n",
    "        y = np.exp(x)\n",
    "        return y/np.sum(y, axis=0, keepdims=True)\n",
    "\n",
    "    def backward(self, x, act):\n",
    "        assert x.shape[1] == act.shape[1]\n",
    "        # print('x=',x.shape)\n",
    "        s = np.zeros(x.shape)\n",
    "        for i in range(x.shape[1]):\n",
    "            mat = np.diag(act[:, i]) - np.outer(act[:, i], act[:, i])\n",
    "            # print('mat=',mat.shape)\n",
    "            vec = x[:, i].reshape((-1, 1))\n",
    "            # print('vec=',vec.shape)\n",
    "            s[:, i] = (mat @ vec).reshape(-1)\n",
    "            # print('s=',s.shape)\n",
    "        # s = s/x.shape[1]\n",
    "        return s"
   ]
  },
  {
   "cell_type": "markdown",
   "metadata": {},
   "source": [
    "## Negative Log Likelihood Loss\n",
    "\n",
    "Here we implement the negative log likelihood loss function which is used for multi class classification."
   ]
  },
  {
   "cell_type": "code",
   "execution_count": 9,
   "metadata": {},
   "outputs": [],
   "source": [
    "class NegativeLogLikelihood(Loss):\n",
    "    ''' Implements the Negative Log Likelihood Loss function'''\n",
    "    def __init__(self):\n",
    "        pass\n",
    "\n",
    "    def forward(self, x, y):\n",
    "        return -1.*np.mean(np.diag(y.T @ np.log(x)))\n",
    "\n",
    "    def backward(self, x, y):\n",
    "        return -1.*y/(x + 1e-8)"
   ]
  },
  {
   "cell_type": "markdown",
   "metadata": {},
   "source": [
    "## Binary Cross Entropy Loss\n",
    "\n",
    "Here we implement the binary cross entropy loss function which is used for binary classification."
   ]
  },
  {
   "cell_type": "code",
   "execution_count": 10,
   "metadata": {},
   "outputs": [],
   "source": [
    "class BinaryCrossEntropy(Loss):\n",
    "    ''' Implements the Binary Cross Entropy Loss function'''\n",
    "    def __init__(self):\n",
    "        pass\n",
    "\n",
    "    def forward(self, x, y):\n",
    "        # print(y.shape)\n",
    "        # print(x.shape)\n",
    "        q = y.T @ np.log(x) + (1-y).T @ np.log(1-x)\n",
    "        return -1.*(np.mean(np.diag(q)))\n",
    "\n",
    "    def backward(self, x, y):\n",
    "        q = y/(x + 1e-8) + (1 - y)/(1 - x + 1e-8)\n",
    "        return -1.*q"
   ]
  },
  {
   "cell_type": "markdown",
   "metadata": {},
   "source": [
    "## The Sequential Class\n",
    "\n",
    "This class ties together the layers and the activation functions and implements the forward and backward passes through them."
   ]
  },
  {
   "cell_type": "code",
   "execution_count": 11,
   "metadata": {},
   "outputs": [],
   "source": [
    "class Sequential(Layer, Activation):\n",
    "    def __init__(self, layers, activations):\n",
    "        self.layers = layers\n",
    "        self.activations = activations\n",
    "        self.layer_grads = []\n",
    "        self.zs = []\n",
    "        self.acts = []\n",
    "\n",
    "    def forward(self, x):\n",
    "        '''\n",
    "        Given an input, this method implements the forward pass through the network\n",
    "        Input -\n",
    "            x: a numpy array of floats of shape (n_featues, batch_size)\n",
    "        Output -\n",
    "            x: a numpy array of floats of shape (out_features, batch_size)\n",
    "        '''\n",
    "        self.zs = []\n",
    "        self.acts = []\n",
    "        for l, a in zip(self.layers, self.activations):\n",
    "            x1 = l.forward(x)\n",
    "            self.zs.append(x1)\n",
    "            x = a.forward(x1)\n",
    "            self.acts.append(x)\n",
    "        return x\n",
    "\n",
    "    def backward(self, x):\n",
    "        '''Implements the backward pass through the neural network\n",
    "        Input -\n",
    "            x: a numpy array of floats - the gradient of the loss with respect to the outputs of the network\n",
    "        Output -\n",
    "            self.layer_grads: a list of tuples (derivative wrt weights, derivative wrt biases) - one for each\n",
    "            layer of the neural network\n",
    "        '''\n",
    "        self.layer_grads = []\n",
    "        i = 0\n",
    "        for a, l, ahat in zip(reversed(self.activations), reversed(self.layers), reversed(self.acts)):\n",
    "            if i == 0:\n",
    "                # print('x=',x.shape)\n",
    "                # print('ahat=',ahat.shape)\n",
    "                d = a.backward(x, ahat)\n",
    "                # print('d=',d.shape)\n",
    "            else:\n",
    "                # print('ahat=',ahat.shape)\n",
    "                # print('d=', d.shape)\n",
    "                d = a.backward(d, ahat)\n",
    "                # print('d=',d.shape)\n",
    "            d, b = l.backward(d)\n",
    "            # print('d=',d.shape)\n",
    "            self.layer_grads.append((d, b))\n",
    "            d = l.d_act\n",
    "            # print('d=', d.shape)\n",
    "            i = i + 1\n",
    "        self.layer_grads = self.layer_grads[::-1]\n",
    "        # print(len(self.layer_grads))\n",
    "        return self.layer_grads"
   ]
  },
  {
   "cell_type": "markdown",
   "metadata": {},
   "source": [
    "## The Neural Network Class\n",
    "\n",
    "In this class, we implement a fully connected neural network."
   ]
  },
  {
   "cell_type": "code",
   "execution_count": 12,
   "metadata": {},
   "outputs": [],
   "source": [
    "class NeuralNetwork(Sequential):\n",
    "    '''\n",
    "    Implements the fully connected Neural Network Class\n",
    "    '''\n",
    "    def __init__(self, layer_sizes, activations):\n",
    "        '''\n",
    "        Initializes a neural network object\n",
    "        Inputs -\n",
    "            layer_sizes: a list of layer sizes [input size, hidden 1 size, hidden 2 size, ..., output size]\n",
    "            activations: a list of activation function objects\n",
    "        '''\n",
    "        self.input_sizes = layer_sizes[:-1]\n",
    "        self.output_sizes = layer_sizes[1:]\n",
    "        layers = [Linear(i, j) for i, j in zip(self.input_sizes, self.output_sizes)]\n",
    "        self.model = Sequential(layers, activations)\n",
    "\n",
    "    def forward(self, x):\n",
    "        '''\n",
    "        Given an input, this method implements the forward pass through the network\n",
    "        Input -\n",
    "            x: a numpy array of floats of shape (n_featues, batch_size)\n",
    "        Output -\n",
    "            self.model.forward(x): a numpy array of floats of shape (out_features, batch_size)\n",
    "        '''\n",
    "        return self.model.forward(x)\n",
    "\n",
    "    def backward(self, x):\n",
    "        '''Implements the backward pass through the neural network\n",
    "        Input -\n",
    "            x: a numpy array of floats - the gradient of the loss with respect to the outputs of the network\n",
    "        Output -\n",
    "            self.layer_grads: a list of tuples (derivative wrt weights, derivative wrt biases) - one for each\n",
    "            layer of the neural network\n",
    "        '''\n",
    "        return self.model.backward(x)\n",
    "\n",
    "    def apply_grads(self, x, lr):\n",
    "        ''' \n",
    "        Changes the weights of the neural network layers\n",
    "        Input -\n",
    "            x: a numpy array of floats - the gradient of the loss with respect to the outputs of the network\n",
    "            lr: a learning rate parameter\n",
    "        Output -\n",
    "            None\n",
    "        '''\n",
    "        grads = self.backward(x)\n",
    "        assert len(grads) == len(self.model.layers)\n",
    "        for l, (gw, gb) in zip(self.model.layers, grads):\n",
    "            # print(l.weights.shape)\n",
    "            # print(g.shape)\n",
    "            weights = l.weights - lr*gw\n",
    "            biases = l.bias - lr*gb\n",
    "            l.set_weights(weights, biases)\n",
    "        return \n",
    "\n",
    "    def save(self, filepath):\n",
    "        '''Saves the model weights and other details to the given filepath'''\n",
    "        for l in self.model.layers:\n",
    "            l.reset()\n",
    "        self.acts = []\n",
    "        self.layer_grads = []\n",
    "        save_dict = {'layer_sizes': [self.input_sizes[0]]+self.output_sizes,\n",
    "                     'activations': self.model.activations,\n",
    "                     'weights': [l.weights for l in self.model.layers],\n",
    "                     'biases': [l.bias for l in self.model.layers]}\n",
    "        with open(filepath, 'wb') as f:\n",
    "            pickle.dump(save_dict, f)\n",
    "        f.close()\n",
    "        return\n",
    "\n",
    "    def load(self, filepath):\n",
    "        '''Loads a saved model from the provided filepath'''\n",
    "        with open(filepath, 'rb') as f:\n",
    "            w_dict = pickle.load(f)\n",
    "        f.close()\n",
    "        self.acts = []\n",
    "        self.layer_grads = []\n",
    "        self.zs = []\n",
    "        # print(w_dict)\n",
    "        assert len(self.model.activations) == len(w_dict['activations'])\n",
    "        assert self.input_sizes == w_dict['layer_sizes'][:-1]\n",
    "        assert self.output_sizes == w_dict['layer_sizes'][1:]\n",
    "        for i, l in enumerate(self.model.layers):\n",
    "            assert l.weights.shape == w_dict['weights'][i].shape\n",
    "            assert l.bias.shape == w_dict['biases'][i].shape\n",
    "            l.set_weights(w_dict['weights'][i], w_dict['biases'][i])\n",
    "        return"
   ]
  },
  {
   "cell_type": "markdown",
   "metadata": {},
   "source": [
    "## Categorical Labels to One Hot\n",
    "\n",
    "In order to perform classification, the categorical labels need to be converted to one hot. This function is used for that purpose."
   ]
  },
  {
   "cell_type": "code",
   "execution_count": 13,
   "metadata": {},
   "outputs": [],
   "source": [
    "def to_categorical(id_vec, num_classes=10):\n",
    "    '''Converts a list of labels to one hot encoded vectors\n",
    "    Inputs -\n",
    "        id_vec: a numpy array of labels to be one hot encoded\n",
    "        num_classes: the size of each one hot encoded vector\n",
    "    Outputs - \n",
    "        labels: the one hot encoded outputs\n",
    "    '''\n",
    "    labels = np.zeros((num_classes, id_vec.shape[0]))\n",
    "    for i in range(id_vec.shape[0]):\n",
    "        id_ = id_vec[i]\n",
    "        assert id_ <= num_classes-1\n",
    "        labels[id_, i] = 1\n",
    "    return labels"
   ]
  },
  {
   "cell_type": "markdown",
   "metadata": {},
   "source": [
    "## Function to train the neural network"
   ]
  },
  {
   "cell_type": "code",
   "execution_count": 14,
   "metadata": {},
   "outputs": [],
   "source": [
    "def train(model, train_data, train_labels, val_data, val_labels, criterion, lr, epochs, batch_size=32, print_every=10, num_classes=2):\n",
    "    '''\n",
    "    Trains a neural network model\n",
    "    Inputs:\n",
    "        model - a neural network object to train\n",
    "        train_data - a numpy array of input training features\n",
    "        train_labels - a numpy array of input training labels\n",
    "        val_data - a numpy array of input validation features\n",
    "        val_labels - a numpy array of input validation labels\n",
    "        criterion - a loss function object\n",
    "        lr - learning rate\n",
    "        epochs - number of training epochs\n",
    "        batch_size - number of instances to train on each time\n",
    "        print_every - gap at which the log has to be printed to the terminal\n",
    "        num_classes - number of classes in the input data\n",
    "    Outputs:\n",
    "        train_losses - a list of losses on the training data\n",
    "        val_losses - a list of losses on the validation data\n",
    "    '''\n",
    "    if isinstance(criterion, BinaryCrossEntropy):\n",
    "        assert train_data.shape[1] == train_labels.shape[0]\n",
    "        assert val_data.shape[1] == val_labels.shape[0]\n",
    "        train_labels = train_labels.reshape((1, -1))\n",
    "        val_labels = val_labels.reshape((1, -1))\n",
    "    else:\n",
    "        train_labels = to_categorical(train_labels, num_classes=num_classes)\n",
    "        val_labels = to_categorical(val_labels, num_classes=num_classes)\n",
    "        assert train_data.shape[1] == train_labels.shape[1]\n",
    "        assert val_data.shape[1] == val_labels.shape[1]\n",
    "\n",
    "    if train_data.shape[1]%batch_size == 0:\n",
    "        n_batches = train_data.shape[1]//batch_size\n",
    "    else:\n",
    "        n_batches = train_data.shape[1]//batch_size + 1\n",
    "    # criterion = NegativeLogLikelihood()\n",
    "    train_losses = []\n",
    "    val_losses = []\n",
    "    stop_counter = 0\n",
    "    for i in range(epochs):\n",
    "        l = 0\n",
    "        start = time.time()\n",
    "        for j in range(n_batches):\n",
    "            x = train_data[:, j*batch_size:(j+1)*batch_size]\n",
    "            y = train_labels[:, j*batch_size:(j+1)*batch_size]\n",
    "            yhat = model.forward(x)\n",
    "            loss = criterion.forward(yhat, y)\n",
    "            l += loss/x.shape[1]\n",
    "            l_grad = criterion.backward(yhat, y)\n",
    "            model.apply_grads(l_grad, lr)\n",
    "        t = time.time() - start\n",
    "        epoch_loss = l/n_batches\n",
    "\n",
    "        val_targets = model.forward(val_data)\n",
    "        val_loss = criterion.forward(val_targets, val_labels)\n",
    "\n",
    "        if (i+1)%print_every == 0:\n",
    "            print(\"Epoch {}, time {:.4f} seconds, training loss {:.4f}, validation loss {:.4f}\".format(i+1, t, epoch_loss, val_loss))\n",
    "            # lr = lr/5.0\n",
    "        train_losses.append(epoch_loss)\n",
    "\n",
    "        if i >= 1 and val_loss >= val_losses[-1]:\n",
    "            stop_counter += 1\n",
    "        else:\n",
    "            stop_counter = 0\n",
    "\n",
    "        val_losses.append(val_loss)\n",
    "\n",
    "        if stop_counter >= 5:\n",
    "            print(\"No improvement in validation loss in the last 5 epochs, so stopping training\")\n",
    "            break\n",
    "    return train_losses, val_losses"
   ]
  },
  {
   "cell_type": "markdown",
   "metadata": {},
   "source": [
    "## Function to test the neural network"
   ]
  },
  {
   "cell_type": "code",
   "execution_count": 15,
   "metadata": {},
   "outputs": [],
   "source": [
    "def test(model, data, labels):\n",
    "    '''\n",
    "    Tests a pretrained neural network\n",
    "    Inputs -\n",
    "        model - a pretrained neural network object\n",
    "        data - the test set\n",
    "        labels - the test labels\n",
    "    Outputs -\n",
    "        accuracy - the accuracy of classification achieved on the test data\n",
    "    '''\n",
    "    assert data.shape[1] == labels.shape[0]\n",
    "    n_correct = 0\n",
    "    for i in range(data.shape[1]):\n",
    "        x = data[:, i].reshape((-1, 1))\n",
    "        yhat = model.forward(x)\n",
    "        ind = np.argmax(yhat, axis=0).item()\n",
    "        if ind == labels[i]:\n",
    "            n_correct = n_correct + 1\n",
    "    accuracy = n_correct/labels.shape[0]\n",
    "    return accuracy\n",
    "\n",
    "if __name__ == '__main__':\n",
    "    pass"
   ]
  },
  {
   "cell_type": "markdown",
   "metadata": {},
   "source": [
    "## Testing the Neural Network on the XOR Problem"
   ]
  },
  {
   "cell_type": "markdown",
   "metadata": {},
   "source": [
    "In this problem, the training data consists of four points and two classes. \n",
    "\n",
    "1. \\[0, 0\\] and \\[1., 1.\\] belong to class 0\n",
    "2. \\[1., 0\\] and \\[0, 1.\\] belong to class 1.\n",
    "\n",
    "As we can easily see from the training data, it is not linearly separable. To keep things simple, we use the same data for validation and testing.\n",
    "\n",
    "To verify that our library is working fine, we first create a neural network with a single hidden layer of 10 neurons and an output layer of 2 neurons. The input layer has 2 neurons. It is trained for 100 epochs with a learning rate of 0.1, and the weights are saved to a file. Early stopping is introduced to check if the validation loss does not improve over the last 5 epochs then the training is stopped. \n",
    "\n",
    "Later the file is loaded and the model is tested on the same data. It is expected that the code yields no errors during training and testing, then its fine. Also, the losses are plotted after training. "
   ]
  },
  {
   "cell_type": "code",
   "execution_count": 16,
   "metadata": {},
   "outputs": [
    {
     "name": "stdout",
     "output_type": "stream",
     "text": [
      "Epoch 100, time 0.0002 seconds, training loss 0.1787, validation loss 0.7149\n",
      "Epoch 200, time 0.0002 seconds, training loss 0.1766, validation loss 0.7063\n",
      "Epoch 300, time 0.0002 seconds, training loss 0.1754, validation loss 0.7016\n",
      "Epoch 400, time 0.0005 seconds, training loss 0.1747, validation loss 0.6988\n",
      "Epoch 500, time 0.0003 seconds, training loss 0.1742, validation loss 0.6968\n",
      "Epoch 600, time 0.0002 seconds, training loss 0.1738, validation loss 0.6953\n",
      "Epoch 700, time 0.0002 seconds, training loss 0.1735, validation loss 0.6940\n",
      "Epoch 800, time 0.0002 seconds, training loss 0.1732, validation loss 0.6928\n",
      "Epoch 900, time 0.0002 seconds, training loss 0.1729, validation loss 0.6915\n",
      "Epoch 1000, time 0.0002 seconds, training loss 0.1725, validation loss 0.6901\n",
      "Accuracy after training is 0.5000\n"
     ]
    },
    {
     "data": {
      "image/png": "[encoded data removed]",
      "text/plain": [
       "<Figure size 720x720 with 1 Axes>"
      ]
     },
     "metadata": {
      "needs_background": "light"
     },
     "output_type": "display_data"
    }
   ],
   "source": [
    "layer_sizes = [2, 10, 2]\n",
    "activations = [Tanh(), Softmax()]\n",
    "model = NeuralNetwork(layer_sizes, activations)\n",
    "\n",
    "train_data = np.array([[0, 0, 1, 1], [0, 1, 0, 1]])\n",
    "train_labels = np.array([0, 1, 1, 0])\n",
    "# train_labels = to_categorical(train_labels, num_classes=2)\n",
    "\n",
    "val_data = np.array([[0, 0, 1, 1], [0, 1, 0, 1]])\n",
    "val_labels = np.array([0, 1, 1, 0])\n",
    "# val_labels = to_categorical(val_labels, num_classes=2)\n",
    "\n",
    "test_data = np.array([[0, 0, 1, 1], [0, 1, 0, 1]])\n",
    "test_labels = np.array([0, 1, 1, 0])\n",
    "\n",
    "lr = 0.01\n",
    "epochs = 1000\n",
    "criterion = NegativeLogLikelihood()\n",
    "train_losses, val_losses = train(model, train_data, train_labels, val_data, val_labels, \n",
    "                                 criterion, lr, epochs, print_every=100, num_classes=2)\n",
    "model.save('./weights.w')\n",
    "model.load('./weights.w')\n",
    "accuracy = test(model, test_data, test_labels)\n",
    "print(\"Accuracy after training is {:.4f}\".format(accuracy))\n",
    "\n",
    "plt.figure(figsize=(10,10))\n",
    "plt.plot(train_losses, label='train losses')\n",
    "plt.plot(val_losses, label='validation losses')\n",
    "plt.legend(loc='best')\n",
    "plt.xlabel('epochs')\n",
    "plt.ylabel('loss')\n",
    "plt.title('Loss vs Epochs')\n",
    "plt.show()"
   ]
  },
  {
   "cell_type": "markdown",
   "metadata": {},
   "source": [
    "It was seen that the code ran successfully. Although the loss did not decrease after a point. The reason could be less number of data or too small gradients in the hidden layer due to tanh activation function. From the accuracy it seems that two of the points is misclassified."
   ]
  },
  {
   "cell_type": "markdown",
   "metadata": {},
   "source": [
    "## Classifying handwritten digits on MNIST data with Neural Networks"
   ]
  },
  {
   "cell_type": "markdown",
   "metadata": {},
   "source": [
    "In this section, we experiment with the MNIST dataset. Out of the 70000 samples, 60000 are used for training, 10000 are used for testing. Out of the 60000 training samples, 6000 are used for validation only, so 54000 are left for training. Each image is reshaped into a 784x1 dimensional vector for training. Moreover, the uint8 intensity values are scaled to the range 0 to 1 by dividing by 255 before using for training.\n",
    "\n",
    "The MNIST dataset is available with the sklearn package using the fetch\\_openmml functionality.\n",
    "\n",
    "In this experiment, we train 3 neural networks with different number of hidden neurons (5, 10, 20 respectively) each with 1 hidden layer, and an output layer of size 10. Hidden activations are all tanh. All models are trained for 200 epochs with a learning rate of 0.01 and batch size of 64. The learning curves, and the accuracies of each model are reported. The best model architecture from this experiment is selected for further experiments in the sections below. The weights of the best model are saved to 'MNIST.w' file."
   ]
  },
  {
   "cell_type": "markdown",
   "metadata": {},
   "source": [
    "### Loading and Preparing the MNSIT dataset."
   ]
  },
  {
   "cell_type": "code",
   "execution_count": 17,
   "metadata": {},
   "outputs": [
    {
     "name": "stdout",
     "output_type": "stream",
     "text": [
      "train data : (784, 54000)\n",
      "train labels : (54000,)\n",
      "val data : (784, 6000)\n",
      "val labels : (6000,)\n",
      "test data : (784, 10000)\n",
      "test labels : (10000,)\n"
     ]
    }
   ],
   "source": [
    "samples, targets = fetch_openml(\"mnist_784\", version=1, return_X_y=True, as_frame=False)\n",
    "samples = samples.T/255.0\n",
    "train_x = samples[:, :54000]\n",
    "val_x = samples[:, 54000:60000]\n",
    "test_x = samples[:, 60000:70000]\n",
    "train_y = targets[:54000]\n",
    "train_y = np.array([int(k) for k in train_y])\n",
    "val_y = targets[54000:60000]\n",
    "val_y = np.array([int(k) for k in val_y])\n",
    "test_y = targets[60000:70000]\n",
    "test_y = np.array([int(k) for k in test_y])\n",
    "print('train data :', train_x.shape)\n",
    "print('train labels :', train_y.shape)\n",
    "print('val data :', val_x.shape)\n",
    "print('val labels :', val_y.shape)\n",
    "print('test data :', test_x.shape)\n",
    "print('test labels :', test_y.shape)"
   ]
  },
  {
   "cell_type": "markdown",
   "metadata": {},
   "source": [
    "### Train first net - 5 hidden neurons"
   ]
  },
  {
   "cell_type": "code",
   "execution_count": 18,
   "metadata": {},
   "outputs": [
    {
     "name": "stdout",
     "output_type": "stream",
     "text": [
      "Epoch 50, time 1.5159 seconds, training loss 0.0069, validation loss 0.3797\n",
      "Epoch 100, time 1.4899 seconds, training loss 0.0058, validation loss 0.3332\n",
      "Epoch 150, time 1.6411 seconds, training loss 0.0055, validation loss 0.3165\n",
      "Epoch 200, time 1.6039 seconds, training loss 0.0053, validation loss 0.3071\n",
      "Accuracy after training is 0.8954\n"
     ]
    },
    {
     "data": {
      "image/png": "[encoded data removed]",
      "text/plain": [
       "<Figure size 720x720 with 1 Axes>"
      ]
     },
     "metadata": {
      "needs_background": "light"
     },
     "output_type": "display_data"
    }
   ],
   "source": [
    "layer_sizes = [784, 5, 10]\n",
    "activations = [Tanh(), Softmax()]\n",
    "model_1 = NeuralNetwork(layer_sizes, activations)\n",
    "lr = 0.01\n",
    "epochs = 200\n",
    "criterion = NegativeLogLikelihood()\n",
    "train_losses, val_losses = train(model_1, train_x, train_y, val_x, val_y, \n",
    "                                 criterion, lr, epochs, print_every=50, batch_size=64, num_classes=10)\n",
    "accuracy = test(model_1, test_x, test_y)\n",
    "print(\"Accuracy after training is {:.4f}\".format(accuracy))\n",
    "\n",
    "plt.figure(figsize=(10,10))\n",
    "plt.plot(train_losses, label='train losses')\n",
    "plt.plot(val_losses, label='validation losses')\n",
    "plt.legend(loc='best')\n",
    "plt.xlabel('epochs')\n",
    "plt.ylabel('loss')\n",
    "plt.title('Loss vs Epochs for Model 1')\n",
    "plt.show()"
   ]
  },
  {
   "cell_type": "markdown",
   "metadata": {},
   "source": [
    "### Train second net - 10 hidden neurons"
   ]
  },
  {
   "cell_type": "code",
   "execution_count": 19,
   "metadata": {},
   "outputs": [
    {
     "name": "stdout",
     "output_type": "stream",
     "text": [
      "Epoch 50, time 3.5030 seconds, training loss 0.0044, validation loss 0.2485\n",
      "Epoch 100, time 2.9302 seconds, training loss 0.0037, validation loss 0.2176\n",
      "Epoch 150, time 2.9379 seconds, training loss 0.0033, validation loss 0.2030\n",
      "Epoch 200, time 2.9863 seconds, training loss 0.0031, validation loss 0.1942\n",
      "Accuracy after training is 0.9311\n"
     ]
    },
    {
     "data": {
      "image/png": "[encoded data removed]",
      "text/plain": [
       "<Figure size 720x720 with 1 Axes>"
      ]
     },
     "metadata": {
      "needs_background": "light"
     },
     "output_type": "display_data"
    }
   ],
   "source": [
    "layer_sizes = [784, 10, 10]\n",
    "activations = [Tanh(), Softmax()]\n",
    "model_2 = NeuralNetwork(layer_sizes, activations)\n",
    "lr = 0.01\n",
    "epochs = 200\n",
    "criterion = NegativeLogLikelihood()\n",
    "train_losses, val_losses = train(model_2, train_x, train_y, val_x, val_y, \n",
    "                                 criterion, lr, epochs, print_every=50, batch_size=64, num_classes=10)\n",
    "accuracy = test(model_2, test_x, test_y)\n",
    "print(\"Accuracy after training is {:.4f}\".format(accuracy))\n",
    "\n",
    "plt.figure(figsize=(10,10))\n",
    "plt.plot(train_losses, label='train losses')\n",
    "plt.plot(val_losses, label='validation losses')\n",
    "plt.legend(loc='best')\n",
    "plt.xlabel('epochs')\n",
    "plt.ylabel('loss')\n",
    "plt.title('Loss vs Epochs for Model 2')\n",
    "plt.show()"
   ]
  },
  {
   "cell_type": "markdown",
   "metadata": {},
   "source": [
    "### Train third net - 20 hidden neurons"
   ]
  },
  {
   "cell_type": "code",
   "execution_count": 20,
   "metadata": {},
   "outputs": [
    {
     "name": "stdout",
     "output_type": "stream",
     "text": [
      "Epoch 50, time 3.2430 seconds, training loss 0.0029, validation loss 0.1612\n",
      "Epoch 100, time 3.1230 seconds, training loss 0.0022, validation loss 0.1374\n",
      "Epoch 150, time 3.4785 seconds, training loss 0.0019, validation loss 0.1261\n",
      "Epoch 200, time 3.6604 seconds, training loss 0.0016, validation loss 0.1207\n",
      "Accuracy after training is 0.9536\n"
     ]
    },
    {
     "data": {
      "image/png": "[encoded data removed]",
      "text/plain": [
       "<Figure size 720x720 with 1 Axes>"
      ]
     },
     "metadata": {
      "needs_background": "light"
     },
     "output_type": "display_data"
    }
   ],
   "source": [
    "layer_sizes = [784, 20, 10]\n",
    "activations = [Tanh(), Softmax()]\n",
    "model_3 = NeuralNetwork(layer_sizes, activations)\n",
    "lr = 0.01\n",
    "epochs = 200\n",
    "criterion = NegativeLogLikelihood()\n",
    "train_losses, val_losses = train(model_3, train_x, train_y, val_x, val_y, \n",
    "                                 criterion, lr, epochs, print_every=50, batch_size=64, num_classes=10)\n",
    "accuracy = test(model_3, test_x, test_y)\n",
    "print(\"Accuracy after training is {:.4f}\".format(accuracy))\n",
    "\n",
    "plt.figure(figsize=(10,10))\n",
    "plt.plot(train_losses, label='train losses')\n",
    "plt.plot(val_losses, label='validation losses')\n",
    "plt.legend(loc='best')\n",
    "plt.xlabel('epochs')\n",
    "plt.ylabel('loss')\n",
    "plt.title('Loss vs Epochs for Model 3')\n",
    "plt.show()"
   ]
  },
  {
   "cell_type": "markdown",
   "metadata": {},
   "source": [
    "So, the model with 20 hidden neurons performs the best by achieving an accuracy of 95.36\\% on the test set. It is saved to 'MNIST.w' file. This file can be loaded and the accuracy on the test set can be rechecked."
   ]
  },
  {
   "cell_type": "code",
   "execution_count": 21,
   "metadata": {},
   "outputs": [],
   "source": [
    "model_3.save('MNIST.w')"
   ]
  },
  {
   "cell_type": "code",
   "execution_count": 22,
   "metadata": {},
   "outputs": [
    {
     "name": "stdout",
     "output_type": "stream",
     "text": [
      "Accuracy after training is 0.9536\n"
     ]
    }
   ],
   "source": [
    "layer_sizes = [784, 20, 10]\n",
    "activations = [Tanh(), Softmax()]\n",
    "model = NeuralNetwork(layer_sizes, activations)\n",
    "model.load('MNIST.w')\n",
    "accuracy = test(model, test_x, test_y)\n",
    "print(\"Accuracy after training is {:.4f}\".format(accuracy))"
   ]
  },
  {
   "cell_type": "markdown",
   "metadata": {},
   "source": [
    "In the following experiments, the same model architecture as the one saved above is used."
   ]
  },
  {
   "cell_type": "markdown",
   "metadata": {},
   "source": [
    "## Further Experiments\n",
    "\n",
    "In this section, further experiments are performed to examine the properties of neural networks and their training."
   ]
  },
  {
   "cell_type": "markdown",
   "metadata": {},
   "source": [
    "### Effect of zero initialization of weights and biases"
   ]
  },
  {
   "cell_type": "markdown",
   "metadata": {},
   "source": [
    "In this experiment, we initialize all model weights to zeros and see the training performance over 200 epochs. The learning rate is set to 0.01 and batch size to 64."
   ]
  },
  {
   "cell_type": "code",
   "execution_count": 24,
   "metadata": {},
   "outputs": [
    {
     "name": "stdout",
     "output_type": "stream",
     "text": [
      "No improvement in validation loss in the last 5 epochs, so stopping training\n",
      "Accuracy after training is 0.1135\n"
     ]
    },
    {
     "data": {
      "image/png": "[encoded data removed]",
      "text/plain": [
       "<Figure size 720x720 with 1 Axes>"
      ]
     },
     "metadata": {
      "needs_background": "light"
     },
     "output_type": "display_data"
    }
   ],
   "source": [
    "layer_sizes = [784, 20, 10]\n",
    "activations = [Tanh(), Softmax()]\n",
    "model = NeuralNetwork(layer_sizes, activations)\n",
    "for l in model.model.layers:\n",
    "    l.weights = np.zeros(l.weights.shape)\n",
    "    l.bias = np.zeros(l.bias.shape)\n",
    "lr = 0.01\n",
    "epochs = 200\n",
    "criterion = NegativeLogLikelihood()\n",
    "train_losses, val_losses = train(model, train_x, train_y, val_x, val_y, \n",
    "                                 criterion, lr, epochs, print_every=50, batch_size=64, num_classes=10)\n",
    "accuracy = test(model, test_x, test_y)\n",
    "print(\"Accuracy after training is {:.4f}\".format(accuracy))\n",
    "\n",
    "plt.figure(figsize=(10,10))\n",
    "plt.plot(train_losses, label='train losses')\n",
    "plt.plot(val_losses, label='validation losses')\n",
    "plt.legend(loc='best')\n",
    "plt.xlabel('epochs')\n",
    "plt.ylabel('loss')\n",
    "plt.title('Loss vs Epochs for All zero initialization')\n",
    "plt.show()"
   ]
  },
  {
   "cell_type": "markdown",
   "metadata": {},
   "source": [
    "If all the weights are initialized to zeros, the derivatives will remain same for every weight. As a result, neurons will learn same features in each iterations. This problem is known as network failing to break symmetry. And not only zero, any constant initialization will produce a poor result. This can be seen by the fact that the loss stays the same, the gradients are all zeros due to multiplication with weights, and hence there is no learning."
   ]
  },
  {
   "cell_type": "markdown",
   "metadata": {},
   "source": [
    "### Effect of random weight and bias initialization between -10 and 10"
   ]
  },
  {
   "cell_type": "markdown",
   "metadata": {},
   "source": [
    "In this experiment, we initialize all model weights randomly between -10 and 10 and see the training performance over 200 epochs. The learning rate is set to 0.01 and batch size to 64."
   ]
  },
  {
   "cell_type": "code",
   "execution_count": 25,
   "metadata": {},
   "outputs": [
    {
     "name": "stdout",
     "output_type": "stream",
     "text": [
      "Epoch 50, time 4.0014 seconds, training loss 0.2945, validation loss 18.0501\n",
      "Epoch 100, time 3.9582 seconds, training loss 0.1438, validation loss 8.4575\n",
      "Epoch 150, time 3.0087 seconds, training loss 0.0831, validation loss 4.8116\n",
      "Epoch 200, time 3.0432 seconds, training loss 0.0216, validation loss 1.1984\n",
      "Accuracy after training is 0.6726\n"
     ]
    },
    {
     "data": {
      "image/png": "[encoded data removed]",
      "text/plain": [
       "<Figure size 720x720 with 1 Axes>"
      ]
     },
     "metadata": {
      "needs_background": "light"
     },
     "output_type": "display_data"
    }
   ],
   "source": [
    "layer_sizes = [784, 20, 10]\n",
    "activations = [Tanh(), Softmax()]\n",
    "model = NeuralNetwork(layer_sizes, activations)\n",
    "for l in model.model.layers:\n",
    "    l.weights = np.random.uniform(-10, 10, l.weights.shape)\n",
    "    l.bias = np.random.uniform(-10, 10, l.bias.shape)\n",
    "lr = 0.01\n",
    "epochs = 200\n",
    "criterion = NegativeLogLikelihood()\n",
    "train_losses, val_losses = train(model, train_x, train_y, val_x, val_y, \n",
    "                                 criterion, lr, epochs, print_every=50, batch_size=64, num_classes=10)\n",
    "accuracy = test(model, test_x, test_y)\n",
    "print(\"Accuracy after training is {:.4f}\".format(accuracy))\n",
    "\n",
    "plt.figure(figsize=(10,10))\n",
    "plt.plot(train_losses, label='train losses')\n",
    "plt.plot(val_losses, label='validation losses')\n",
    "plt.legend(loc='best')\n",
    "plt.xlabel('epochs')\n",
    "plt.ylabel('loss')\n",
    "plt.title('Loss vs Epochs for Uniform Random initialization in [-10, 10]')\n",
    "plt.show()"
   ]
  },
  {
   "cell_type": "markdown",
   "metadata": {},
   "source": [
    "Random initialization makes performance better than zero or constant initialization but it also makes the convergence slower. Sampling from an interval \\[-10, 10\\] means that numbers such as 9.5 can be sampled. Large numbers and high variance due to scaling lead to increased convergence time."
   ]
  },
  {
   "cell_type": "markdown",
   "metadata": {},
   "source": [
    "### Effect of training with different Learning Rates - 1.0 and 0.001"
   ]
  },
  {
   "cell_type": "markdown",
   "metadata": {},
   "source": [
    "All other parameters are kept the same."
   ]
  },
  {
   "cell_type": "markdown",
   "metadata": {},
   "source": [
    "#### Learning rate of 1.0"
   ]
  },
  {
   "cell_type": "code",
   "execution_count": 26,
   "metadata": {},
   "outputs": [
    {
     "name": "stdout",
     "output_type": "stream",
     "text": [
      "Epoch 50, time 3.0165 seconds, training loss 0.0012, validation loss 0.2255\n",
      "Epoch 100, time 3.6448 seconds, training loss 0.0009, validation loss 0.2519\n",
      "Epoch 150, time 2.9911 seconds, training loss 0.0008, validation loss 0.2887\n",
      "Epoch 200, time 3.0469 seconds, training loss 0.0006, validation loss 0.2966\n",
      "Accuracy after training is 0.9400\n"
     ]
    },
    {
     "data": {
      "image/png": "[encoded data removed]",
      "text/plain": [
       "<Figure size 720x720 with 1 Axes>"
      ]
     },
     "metadata": {
      "needs_background": "light"
     },
     "output_type": "display_data"
    }
   ],
   "source": [
    "layer_sizes = [784, 20, 10]\n",
    "activations = [Tanh(), Softmax()]\n",
    "model = NeuralNetwork(layer_sizes, activations)\n",
    "\n",
    "lr = 1.0\n",
    "epochs = 200\n",
    "criterion = NegativeLogLikelihood()\n",
    "train_losses, val_losses = train(model, train_x, train_y, val_x, val_y, \n",
    "                                 criterion, lr, epochs, print_every=50, batch_size=64, num_classes=10)\n",
    "accuracy = test(model, test_x, test_y)\n",
    "print(\"Accuracy after training is {:.4f}\".format(accuracy))\n",
    "\n",
    "plt.figure(figsize=(10,10))\n",
    "plt.plot(train_losses, label='train losses')\n",
    "plt.plot(val_losses, label='validation losses')\n",
    "plt.legend(loc='best')\n",
    "plt.xlabel('epochs')\n",
    "plt.ylabel('loss')\n",
    "plt.title('Loss vs Epochs for learning rate of 1.0')\n",
    "plt.show()"
   ]
  },
  {
   "cell_type": "markdown",
   "metadata": {},
   "source": [
    "With a larger learning rate such as 1.0, even though the performance is better than random initialization of weights and a smaller learning rate, it is seen that the training loss increases over time. This can be expected with larger learning rates as they lead to divergence of the training. This is where early stopping comes in and the training is halted when the validation epoch does not improve for 5 consecutive epochs."
   ]
  },
  {
   "cell_type": "markdown",
   "metadata": {},
   "source": [
    "#### Learning rate of 0.001"
   ]
  },
  {
   "cell_type": "code",
   "execution_count": 27,
   "metadata": {},
   "outputs": [
    {
     "name": "stdout",
     "output_type": "stream",
     "text": [
      "Epoch 50, time 3.0202 seconds, training loss 0.0066, validation loss 0.3646\n",
      "Epoch 100, time 3.0290 seconds, training loss 0.0052, validation loss 0.2826\n",
      "Epoch 150, time 2.9950 seconds, training loss 0.0045, validation loss 0.2492\n",
      "Epoch 200, time 3.0492 seconds, training loss 0.0041, validation loss 0.2291\n",
      "Accuracy after training is 0.9253\n"
     ]
    },
    {
     "data": {
      "image/png": "[encoded data removed]",
      "text/plain": [
       "<Figure size 720x720 with 1 Axes>"
      ]
     },
     "metadata": {
      "needs_background": "light"
     },
     "output_type": "display_data"
    }
   ],
   "source": [
    "layer_sizes = [784, 20, 10]\n",
    "activations = [Tanh(), Softmax()]\n",
    "model = NeuralNetwork(layer_sizes, activations)\n",
    "\n",
    "lr = 0.001\n",
    "epochs = 200\n",
    "criterion = NegativeLogLikelihood()\n",
    "train_losses, val_losses = train(model, train_x, train_y, val_x, val_y, \n",
    "                                 criterion, lr, epochs, print_every=50, batch_size=64, num_classes=10)\n",
    "accuracy = test(model, test_x, test_y)\n",
    "print(\"Accuracy after training is {:.4f}\".format(accuracy))\n",
    "\n",
    "plt.figure(figsize=(10,10))\n",
    "plt.plot(train_losses, label='train losses')\n",
    "plt.plot(val_losses, label='validation losses')\n",
    "plt.legend(loc='best')\n",
    "plt.xlabel('epochs')\n",
    "plt.ylabel('loss')\n",
    "plt.title('Loss vs Epochs for learning rate of 0.001')\n",
    "plt.show()"
   ]
  },
  {
   "cell_type": "markdown",
   "metadata": {},
   "source": [
    "With a smaller learning rate, the model takes very small steps towards the optima, and hence the convergence is slower. Unlike the large learning rate case, it is seen that the loss keeps on decreasing continuously. However, the performance is slightly lower than the higher learning rate case. With learning rate of 0.001, the accuracy is 92.53\\% and with learning rate 1.0, the accuracy is 94.00\\%. However, if the number of training epochs is increased in the first case, then a better performance than the higher learning rate case can be expected."
   ]
  },
  {
   "cell_type": "markdown",
   "metadata": {},
   "source": [
    "## Observations and Conclusions"
   ]
  },
  {
   "cell_type": "markdown",
   "metadata": {},
   "source": [
    "1. The best architecture that was found from the experiments with the three models is the one with 20 hidden neurons.\n",
    "2. If all the weights are initialized to zeros, the derivatives will remain same for every weight. As a result, neurons will learn same features in each iterations. This problem is known as network failing to break symmetry. And not only zero, any constant initialization will produce a poor result. This can be seen by the fact that the loss stays the same, the gradients are all zeros due to multiplication with weights, and hence there is no learning.\n",
    "3. Random initialization makes performance better than zero or constant initialization but it also makes the convergence slower. Sampling from an interval \\[-10, 10\\] means that numbers such as 9.5 can be sampled. Large numbers and high variance due to scaling lead to increased convergence time.\n",
    "4. With a larger learning rate such as 1.0, even though the performance is better than random initialization of weights and a smaller learning rate, it is seen that the training loss increases over time. This can be expected with larger learning rates as they lead to divergence of the training. This is where early stopping comes in and the training is halted when the validation epoch does not improve for 5 consecutive epochs.\n",
    "5. With a smaller learning rate, the model takes very small steps towards the optima, and hence the convergence is slower. Unlike the large learning rate case, it is seen that the loss keeps on decreasing continuously. However, the performance is slightly lower than the higher learning rate case. With learning rate of 0.001, the accuracy is 92.53\\% and with learning rate 1.0, the accuracy is 94.00\\%. However, if the number of training epochs is increased in the first case, then a better performance than the higher learning rate case can be expected."
   ]
  }
 ],
 "metadata": {
  "kernelspec": {
   "display_name": "DL_gpu",
   "language": "python",
   "name": "dl_gpu"
  },
  "language_info": {
   "codemirror_mode": {
    "name": "ipython",
    "version": 3
   },
   "file_extension": ".py",
   "mimetype": "text/x-python",
   "name": "python",
   "nbconvert_exporter": "python",
   "pygments_lexer": "ipython3",
   "version": "3.7.7"
  }
 },
 "nbformat": 4,
 "nbformat_minor": 4
}